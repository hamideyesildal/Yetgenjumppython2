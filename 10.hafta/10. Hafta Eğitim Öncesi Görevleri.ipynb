{
 "cells": [
  {
   "attachments": {},
   "cell_type": "markdown",
   "metadata": {},
   "source": [
    "# Problem 1"
   ]
  },
  {
   "cell_type": "code",
   "execution_count": null,
   "metadata": {},
   "outputs": [],
   "source": [
    "# 1 - numpy kütüphanesini import edin\n",
    "\n",
    "# 2 - 0 ile 10 arasında 5 sayıdan oluşan matris üretin\n",
    "\n",
    "# 3 - matris'in boyutunu öğrenin\n",
    "\n",
    "# 4 - matris'i yeniden boyutlandırın\n",
    "\n",
    "# 5 - matris'in boyut sayısını öğrenin\n"
   ]
  },
  {
   "cell_type": "code",
   "execution_count": 1,
   "metadata": {},
   "outputs": [
    {
     "ename": "ModuleNotFoundError",
     "evalue": "No module named 'numpy'",
     "output_type": "error",
     "traceback": [
      "\u001b[1;31m---------------------------------------------------------------------------\u001b[0m",
      "\u001b[1;31mModuleNotFoundError\u001b[0m                       Traceback (most recent call last)",
      "Cell \u001b[1;32mIn[1], line 1\u001b[0m\n\u001b[1;32m----> 1\u001b[0m \u001b[39mimport\u001b[39;00m \u001b[39mnumpy\u001b[39;00m \u001b[39mas\u001b[39;00m \u001b[39mnp\u001b[39;00m\n\u001b[0;32m      3\u001b[0m \u001b[39m# 0 ile 10 arasında 5 sayıdan oluşan matris üretmek\u001b[39;00m\n\u001b[0;32m      4\u001b[0m matris \u001b[39m=\u001b[39m np\u001b[39m.\u001b[39mrandom\u001b[39m.\u001b[39mrandint(\u001b[39m0\u001b[39m, \u001b[39m10\u001b[39m, (\u001b[39m5\u001b[39m))\n",
      "\u001b[1;31mModuleNotFoundError\u001b[0m: No module named 'numpy'"
     ]
    }
   ],
   "source": [
    "import numpy as np\n",
    "\n",
    "# 0 ile 10 arasında 5 sayıdan oluşan matris üretmek\n",
    "matris = np.random.randint(0, 10, (5))\n",
    "\n",
    "# Matris'in boyutunu öğrenmek\n",
    "boyut = matris.shape\n",
    "print(\"Matris Boyutu:\", boyut)\n",
    "\n",
    "# Matris'i yeniden boyutlandırmak\n",
    "matris = matris.reshape(1,5)\n",
    "print(\"Yeniden boyutlandırılmış matris:\", matris)\n",
    "\n",
    "# Matris boyut sayısını öğrenmek\n",
    "boyut_sayisi = matris.ndim\n",
    "print(\"Matris Boyut Sayısı:\", boyut_sayisi)\n"
   ]
  },
  {
   "attachments": {},
   "cell_type": "markdown",
   "metadata": {},
   "source": [
    "# Problem 2"
   ]
  },
  {
   "cell_type": "code",
   "execution_count": null,
   "metadata": {},
   "outputs": [],
   "source": [
    "# 1 - 0 ile 10 arasında bulunan tek sayılardan oluşan matris üretin\n",
    "\n",
    "# 2 - Oluşturduğunuz matrisi parçalayın\n",
    "\n",
    "# 3 - Parçalanmış matrisleri birleştirin\n"
   ]
  },
  {
   "cell_type": "code",
   "execution_count": 3,
   "metadata": {},
   "outputs": [
    {
     "ename": "ModuleNotFoundError",
     "evalue": "No module named 'numpy'",
     "output_type": "error",
     "traceback": [
      "\u001b[1;31m---------------------------------------------------------------------------\u001b[0m",
      "\u001b[1;31mModuleNotFoundError\u001b[0m                       Traceback (most recent call last)",
      "Cell \u001b[1;32mIn[3], line 1\u001b[0m\n\u001b[1;32m----> 1\u001b[0m \u001b[39mimport\u001b[39;00m \u001b[39mnumpy\u001b[39;00m \u001b[39mas\u001b[39;00m \u001b[39mnp\u001b[39;00m\n\u001b[0;32m      3\u001b[0m \u001b[39m# 0 ile 10 arasında bulunan tek sayılardan oluşan matris üretmek\u001b[39;00m\n\u001b[0;32m      4\u001b[0m matris \u001b[39m=\u001b[39m np\u001b[39m.\u001b[39marange(\u001b[39m1\u001b[39m, \u001b[39m11\u001b[39m, \u001b[39m2\u001b[39m)\u001b[39m.\u001b[39mreshape(\u001b[39m2\u001b[39m, \u001b[39m2\u001b[39m)\n",
      "\u001b[1;31mModuleNotFoundError\u001b[0m: No module named 'numpy'"
     ]
    }
   ],
   "source": [
    "import numpy as np\n",
    "\n",
    "# 0 ile 10 arasında bulunan tek sayılardan oluşan matris üretmek\n",
    "matris = np.arange(1, 11, 2).reshape(2, 2)\n",
    "print(\"Matris:\\n\", matris)\n",
    "\n",
    "# Matrisi parçalama\n",
    "alt_matris1 = matris[:1, :]\n",
    "alt_matris2 = matris[1:, :]\n",
    "print(\"Alt Matris 1:\\n\", alt_matris1)\n",
    "print(\"Alt Matris 2:\\n\", alt_matris2)\n",
    "\n",
    "# Parçalanmış matrisleri birleştirme\n",
    "birlesik_matris = np.concatenate((alt_matris1, alt_matris2), axis=0)\n",
    "print(\"Birleştirilmiş Matris:\\n\", birlesik_matris)\n"
   ]
  },
  {
   "attachments": {},
   "cell_type": "markdown",
   "metadata": {},
   "source": [
    "# Problem 3"
   ]
  },
  {
   "cell_type": "code",
   "execution_count": null,
   "metadata": {},
   "outputs": [],
   "source": [
    "# 1 - 5 ile 100 arasında ikişer ikişer atlayarak rastgele 10 sayıdan oluşan matris üretin\n",
    "\n",
    "# 2 - matris'in özelliklerini inceleyin\n"
   ]
  },
  {
   "cell_type": "code",
   "execution_count": 4,
   "metadata": {},
   "outputs": [
    {
     "ename": "ModuleNotFoundError",
     "evalue": "No module named 'numpy'",
     "output_type": "error",
     "traceback": [
      "\u001b[1;31m---------------------------------------------------------------------------\u001b[0m",
      "\u001b[1;31mModuleNotFoundError\u001b[0m                       Traceback (most recent call last)",
      "Cell \u001b[1;32mIn[4], line 1\u001b[0m\n\u001b[1;32m----> 1\u001b[0m \u001b[39mimport\u001b[39;00m \u001b[39mnumpy\u001b[39;00m \u001b[39mas\u001b[39;00m \u001b[39mnp\u001b[39;00m\n\u001b[0;32m      3\u001b[0m \u001b[39m# 5 ile 100 arasında ikişer ikişer atlayarak rastgele 10 sayıdan oluşan matris üretmek\u001b[39;00m\n\u001b[0;32m      4\u001b[0m matris \u001b[39m=\u001b[39m np\u001b[39m.\u001b[39mrandom\u001b[39m.\u001b[39mrandint(low\u001b[39m=\u001b[39m\u001b[39m5\u001b[39m, high\u001b[39m=\u001b[39m\u001b[39m101\u001b[39m, size\u001b[39m=\u001b[39m(\u001b[39m5\u001b[39m, \u001b[39m10\u001b[39m)) \u001b[39m*\u001b[39m \u001b[39m2\u001b[39m\n",
      "\u001b[1;31mModuleNotFoundError\u001b[0m: No module named 'numpy'"
     ]
    }
   ],
   "source": [
    "import numpy as np\n",
    "\n",
    "# 5 ile 100 arasında ikişer ikişer atlayarak rastgele 10 sayıdan oluşan matris üretmek\n",
    "matris = np.random.randint(low=5, high=101, size=(5, 10)) * 2\n",
    "print(\"Matris:\\n\", matris)\n",
    "\n",
    "# Matris özelliklerini incelemek\n",
    "print(\"Boyut: \", matris.shape)\n",
    "print(\"Toplam Eleman Sayısı: \", matris.size)\n",
    "print(\"Veri Tipi: \", matris.dtype)\n",
    "print(\"En Küçük Değer: \", matris.min())\n",
    "print(\"En Büyük Değer: \", matris.max())\n",
    "print(\"Ortalama: \", matris.mean())\n",
    "print(\"Standart Sapma: \", matris.std())\n",
    "\n"
   ]
  }
 ],
 "metadata": {
  "kernelspec": {
   "display_name": "Python 3",
   "language": "python",
   "name": "python3"
  },
  "language_info": {
   "codemirror_mode": {
    "name": "ipython",
    "version": 3
   },
   "file_extension": ".py",
   "mimetype": "text/x-python",
   "name": "python",
   "nbconvert_exporter": "python",
   "pygments_lexer": "ipython3",
   "version": "3.11.1"
  },
  "orig_nbformat": 4,
  "vscode": {
   "interpreter": {
    "hash": "5026d2d6e7aaaaba093def813beadff083d8733e4a511af01735cbabd156995d"
   }
  }
 },
 "nbformat": 4,
 "nbformat_minor": 2
}
