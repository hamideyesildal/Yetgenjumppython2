{
 "cells": [
  {
   "attachments": {},
   "cell_type": "markdown",
   "metadata": {},
   "source": [
    "# Problem 1 "
   ]
  },
  {
   "cell_type": "code",
   "execution_count": null,
   "metadata": {},
   "outputs": [],
   "source": [
    "# 1 - numpy kütüphanesini import edin\n",
    "\n",
    "# 2 - 5 elemanlı bir numpy array oluşturun\n",
    "\n",
    "# 3 - Oluşturduğunuz arrayi küçükten büyüğe sıralayın.\n"
   ]
  },
  {
   "cell_type": "code",
   "execution_count": 1,
   "metadata": {},
   "outputs": [
    {
     "name": "stdout",
     "output_type": "stream",
     "text": [
      "Collecting numpy\n",
      "  Downloading numpy-1.24.3-cp311-cp311-win_amd64.whl (14.8 MB)\n",
      "     ---------------------------------------- 14.8/14.8 MB 5.7 MB/s eta 0:00:00\n",
      "Installing collected packages: numpy\n",
      "Successfully installed numpy-1.24.3\n",
      "Note: you may need to restart the kernel to use updated packages.\n"
     ]
    },
    {
     "name": "stderr",
     "output_type": "stream",
     "text": [
      "\n",
      "[notice] A new release of pip available: 22.3.1 -> 23.1.1\n",
      "[notice] To update, run: python.exe -m pip install --upgrade pip\n"
     ]
    }
   ],
   "source": [
    "pip install numpy"
   ]
  },
  {
   "cell_type": "code",
   "execution_count": 2,
   "metadata": {},
   "outputs": [
    {
     "name": "stdout",
     "output_type": "stream",
     "text": [
      "[12 32 45 67 89]\n"
     ]
    }
   ],
   "source": [
    "import numpy as np\n",
    "array = np.array([32, 45, 67, 89, 12])\n",
    "print(np.sort(array))"
   ]
  },
  {
   "attachments": {},
   "cell_type": "markdown",
   "metadata": {},
   "source": [
    "# Problem 2"
   ]
  },
  {
   "cell_type": "code",
   "execution_count": 8,
   "metadata": {},
   "outputs": [
    {
     "name": "stdout",
     "output_type": "stream",
     "text": [
      "[10 15 30 45 60]\n",
      "[ 5  6  7  8  9 10 11 12 13 14]\n",
      "[50 55 60 65 70 75 80 85 90 95]\n",
      "[0. 0. 0. 0. 0. 0. 0. 0. 0. 0.]\n",
      "[1. 1. 1. 1. 1. 1. 1. 1. 1. 1.]\n",
      "[  0.  25.  50.  75. 100.]\n",
      "[19 17 20 19 25]\n",
      "[-0.34042617 -0.99071892 -0.70895257  0.33024513  0.15160425  0.7421781\n",
      "  0.60718105 -0.22608578  0.05340505 -0.01162243]\n",
      "[[38 45 17 13 40]\n",
      " [17 43 15 22 44]\n",
      " [20 10 13 19 40]]\n",
      "[ 75  98  45  54 124]\n",
      "[153 141 102]\n",
      "45\n",
      "10\n",
      "20.0\n",
      "1\n",
      "[14 19 12 17 18 11 11 14]\n",
      "[14 19 12]\n",
      "[38 45 17 13 40]\n",
      "15\n",
      "[38 17 20]\n",
      "[[1444 2025  289  169 1600]\n",
      " [ 289 1849  225  484 1936]\n",
      " [ 400  100  169  361 1600]]\n",
      "[[False  True  True False False]\n",
      " [False False  True  True False]\n",
      " [False False False False False]]\n"
     ]
    }
   ],
   "source": [
    "# 1- (10,15,30,45,60) değerlerine sahip numpy dizisi oluşturunuz.\n",
    "sayilar = np.array([10,15,30,45,60])\n",
    "print(sayilar)\n",
    "\n",
    "# 2- (5-15) arasındaki sayılarla numpy dizisi oluşturunuz.\n",
    "sayilar2 = np.arange(5,15)\n",
    "print(sayilar2)\n",
    "# 3- (50-100) arasında 5'er 5'er artarak numpy dizisi oluşturunuz.\n",
    "sayilar3 = np.arange(50,100,5)\n",
    "print(sayilar3)\n",
    "\n",
    "# 4- 10 elemanlı sıfırlardan oluşan bir dizi oluşturunuz.\n",
    "\n",
    "sayilar4 = np.zeros(10)\n",
    "print(sayilar4)\n",
    "# 5- 10 elemanlı birlerden oluşan bir dizi oluşturunuz.\n",
    "\n",
    "sayilar5 = np.ones(10)\n",
    "print(sayilar5)\n",
    "# 6- (0-100) arasında eşit aralıklı 5 sayı üretin.\n",
    "\n",
    "sayilar6 = np.linspace(0,100,5)\n",
    "print(sayilar6)\n",
    "# 7- (10-30) arasında rastgele 5 tane tamsayı üretin.\n",
    "\n",
    "random_numbers = np.random.randint(10,31,size=5)\n",
    "print(random_numbers)\n",
    "# 8- [-1 ile 1] arasında 10 adet sayı üretin.\n",
    "random_numbers2 = np.random.uniform(-1,1, size =10)\n",
    "print(random_numbers2)\n",
    "\n",
    "# 9- (3x5) boyutlarında (10-50) arasında rastgele bir matris oluşturunuz.\n",
    "random_numbers3 =np.random.randint(10,50, size =(3,5))\n",
    "print(random_numbers3)\n",
    "\n",
    "# 10- Üretilen matrisin satır ve sütun sayıları toplamlarını hesaplayınız ?\n",
    "\n",
    "print(random_numbers3.sum(axis=0))\n",
    "print(random_numbers3.sum(axis=1))\n",
    "# 11- Üretilen matrisin en büyük, en küçük ve ortalaması nedir ?\n",
    "\n",
    "print(random_numbers3.max())\n",
    "print(random_numbers3.min())\n",
    "print(random_numbers.mean())\n",
    "# 12- Üretilen matrisin en büyük değerinin indeksi kaçtır ?\n",
    "print(random_numbers3.argmax())\n",
    "\n",
    "# 13- (10-20) arasındaki sayıları içeren dizinin ilk 3 elemanını seçiniz.\n",
    "random_numbers4 = np.random.randint(10,20, size =8)\n",
    "print(random_numbers4)\n",
    "\n",
    "# 14- Üretilen dizinin elemanlarını tersten yazdırın.\n",
    "\n",
    "print(random_numbers4[:3])\n",
    "# 15- Üretilen matrisin ilk satırını seçiniz.\n",
    "print(random_numbers3[0])\n",
    "\n",
    "# 16- Üretilen matrisin 2.satır 3.sütundaki elemanı hangisidir ?\n",
    "print(random_numbers3[1,2])\n",
    "\n",
    "# 17- Üretilen matrisin tüm satırlardaki ilk elemanı seçiniz.\n",
    "\n",
    "print(random_numbers3[:,0])\n",
    "# 18- Üretilen matrisin her bir elemanının karesini alınız.\n",
    "print(random_numbers3**2)\n",
    "\n",
    "# 19- Üretilen matris elemanlarının hangisi pozitif çift sayıdır ? Aralığı (-50,+50) arasında yapınız.\n",
    "random_numbers5 = np.random.randint(-50, 50, size = (3,5))\n",
    "print((random_numbers5 >0) & (random_numbers5 % 2 ==0))"
   ]
  }
 ],
 "metadata": {
  "kernelspec": {
   "display_name": "Python 3",
   "language": "python",
   "name": "python3"
  },
  "language_info": {
   "codemirror_mode": {
    "name": "ipython",
    "version": 3
   },
   "file_extension": ".py",
   "mimetype": "text/x-python",
   "name": "python",
   "nbconvert_exporter": "python",
   "pygments_lexer": "ipython3",
   "version": "3.11.1"
  },
  "orig_nbformat": 4,
  "vscode": {
   "interpreter": {
    "hash": "5026d2d6e7aaaaba093def813beadff083d8733e4a511af01735cbabd156995d"
   }
  }
 },
 "nbformat": 4,
 "nbformat_minor": 2
}
