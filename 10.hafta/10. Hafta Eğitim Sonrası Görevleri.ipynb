{
 "cells": [
  {
   "attachments": {},
   "cell_type": "markdown",
   "metadata": {},
   "source": [
    "# Problem 1 "
   ]
  },
  {
   "cell_type": "code",
   "execution_count": null,
   "metadata": {},
   "outputs": [],
   "source": [
    "# 1 - numpy kütüphanesini import edin\n",
    "\n",
    "# 2 - 5 elemanlı bir numpy array oluşturun\n",
    "\n",
    "# 3 - Oluşturduğunuz arrayi küçükten büyüğe sıralayın.\n"
   ]
  },
  {
   "cell_type": "code",
   "execution_count": 1,
   "metadata": {},
   "outputs": [
    {
     "ename": "ModuleNotFoundError",
     "evalue": "No module named 'numpy'",
     "output_type": "error",
     "traceback": [
      "\u001b[1;31m---------------------------------------------------------------------------\u001b[0m",
      "\u001b[1;31mModuleNotFoundError\u001b[0m                       Traceback (most recent call last)",
      "Cell \u001b[1;32mIn[1], line 1\u001b[0m\n\u001b[1;32m----> 1\u001b[0m \u001b[39mimport\u001b[39;00m \u001b[39mnumpy\u001b[39;00m \u001b[39mas\u001b[39;00m \u001b[39mnp\u001b[39;00m\n\u001b[0;32m      2\u001b[0m array \u001b[39m=\u001b[39m np\u001b[39m.\u001b[39marray([\u001b[39m32\u001b[39m, \u001b[39m45\u001b[39m, \u001b[39m67\u001b[39m, \u001b[39m89\u001b[39m, \u001b[39m12\u001b[39m])\n\u001b[0;32m      3\u001b[0m \u001b[39mprint\u001b[39m(np\u001b[39m.\u001b[39msort(array))\n",
      "\u001b[1;31mModuleNotFoundError\u001b[0m: No module named 'numpy'"
     ]
    }
   ],
   "source": [
    "import numpy as np\n",
    "array = np.array([32, 45, 67, 89, 12])\n",
    "print(np.sort(array))"
   ]
  },
  {
   "attachments": {},
   "cell_type": "markdown",
   "metadata": {},
   "source": [
    "# Problem 2"
   ]
  },
  {
   "cell_type": "code",
   "execution_count": 2,
   "metadata": {},
   "outputs": [
    {
     "ename": "IndentationError",
     "evalue": "unexpected indent (3698370367.py, line 6)",
     "output_type": "error",
     "traceback": [
      "\u001b[1;36m  Cell \u001b[1;32mIn[2], line 6\u001b[1;36m\u001b[0m\n\u001b[1;33m    sayilar2 = np.arrange(5,15)\u001b[0m\n\u001b[1;37m    ^\u001b[0m\n\u001b[1;31mIndentationError\u001b[0m\u001b[1;31m:\u001b[0m unexpected indent\n"
     ]
    }
   ],
   "source": [
    "# 1- (10,15,30,45,60) değerlerine sahip numpy dizisi oluşturunuz.\n",
    "sayilar = np.array([10,15,30,45,60])\n",
    "print(sayilar)\n",
    "\n",
    "# 2- (5-15) arasındaki sayılarla numpy dizisi oluşturunuz.\n",
    " sayilar2 = np.arrange(5,15)\n",
    "print(sayilar2)\n",
    "# 3- (50-100) arasında 5'er 5'er artarak numpy dizisi oluşturunuz.\n",
    "sayilar3 = np.arrange(50,100,5)\n",
    "print(sayilar3)\n",
    "\n",
    "# 4- 10 elemanlı sıfırlardan oluşan bir dizi oluşturunuz.\n",
    "\n",
    "sayilar4 = np.zeros(10)\n",
    "print(sayilar4)\n",
    "# 5- 10 elemanlı birlerden oluşan bir dizi oluşturunuz.\n",
    "\n",
    "sayilar5 = np.ones(10)\n",
    "print(sayilar5)\n",
    "# 6- (0-100) arasında eşit aralıklı 5 sayı üretin.\n",
    "\n",
    "sayilar6 = np.linspace(0,100,5)\n",
    "print(sayilar6)\n",
    "# 7- (10-30) arasında rastgele 5 tane tamsayı üretin.\n",
    "\n",
    "random_numbers = np.random.randint(10,31,size=5)\n",
    "print(random_numbers)\n",
    "# 8- [-1 ile 1] arasında 10 adet sayı üretin.\n",
    "random_numbers2 = np.random.uniform(-1,1, size =10)\n",
    "print(random_numbers2)\n",
    "\n",
    "# 9- (3x5) boyutlarında (10-50) arasında rastgele bir matris oluşturunuz.\n",
    "random_numbers3 =np.random.randint(10,50, size =(3,5))\n",
    "print(random_numbers3)\n",
    "\n",
    "# 10- Üretilen matrisin satır ve sütun sayıları toplamlarını hesaplayınız ?\n",
    "\n",
    "print(random_numbers3.sum(axis=0))\n",
    "print(random_numbers3.sum(axis=1))\n",
    "# 11- Üretilen matrisin en büyük, en küçük ve ortalaması nedir ?\n",
    "\n",
    "print(random_numbers3.max())\n",
    "print(random_numbers3.min())\n",
    "print(random_numbers.meas())\n",
    "# 12- Üretilen matrisin en büyük değerinin indeksi kaçtır ?\n",
    "print(random_numbers3.argmax())\n",
    "\n",
    "# 13- (10-20) arasındaki sayıları içeren dizinin ilk 3 elemanını seçiniz.\n",
    "random_numbers4 = np.random.randint(10,20, size =8)\n",
    "print(random_numbers4)\n",
    "\n",
    "# 14- Üretilen dizinin elemanlarını tersten yazdırın.\n",
    "\n",
    "print(random_numbers4[:3])\n",
    "# 15- Üretilen matrisin ilk satırını seçiniz.\n",
    "print(random_numbers3[0])\n",
    "\n",
    "# 16- Üretilen matrisin 2.satır 3.sütundaki elemanı hangisidir ?\n",
    "print(random_numbers3[1,2])\n",
    "\n",
    "# 17- Üretilen matrisin tüm satırlardaki ilk elemanı seçiniz.\n",
    "\n",
    "print(random_numbers3[:,0])\n",
    "# 18- Üretilen matrisin her bir elemanının karesini alınız.\n",
    "print(random_numbers3**2)\n",
    "\n",
    "# 19- Üretilen matris elemanlarının hangisi pozitif çift sayıdır ? Aralığı (-50,+50) arasında yapınız.\n",
    "print((random_numbers5 >0) & (random_numbers5 % 2 ==0))"
   ]
  }
 ],
 "metadata": {
  "kernelspec": {
   "display_name": "Python 3",
   "language": "python",
   "name": "python3"
  },
  "language_info": {
   "codemirror_mode": {
    "name": "ipython",
    "version": 3
   },
   "file_extension": ".py",
   "mimetype": "text/x-python",
   "name": "python",
   "nbconvert_exporter": "python",
   "pygments_lexer": "ipython3",
   "version": "3.11.1"
  },
  "orig_nbformat": 4,
  "vscode": {
   "interpreter": {
    "hash": "5026d2d6e7aaaaba093def813beadff083d8733e4a511af01735cbabd156995d"
   }
  }
 },
 "nbformat": 4,
 "nbformat_minor": 2
}
