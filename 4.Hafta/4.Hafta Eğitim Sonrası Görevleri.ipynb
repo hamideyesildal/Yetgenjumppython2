{
 "cells": [
  {
   "cell_type": "markdown",
   "metadata": {},
   "source": [
    "# Problem 1\n",
    "`ogrenciler` adında bir sözlük oluşturunuz. Kullanıcıdan döngü yardımıyla 3 öğrenci için veri girmesini isteyerek öğrencilerin sırasıyla okul numarası, isim, soy isim, telefon numarası ve doğum tarihi bilgilerini alınız. Aldığınız öğrenci bilgilerini yine aynı döngü yardımıyla `ogrenciler` adındaki sözlükte saklayınız. Daha sonra öğrenci bilgilerinin bulunduğu sözlük yapısını ekrana bastırınız.\n",
    "\n"
   ]
  },
  {
   "cell_type": "code",
   "execution_count": null,
   "metadata": {},
   "outputs": [],
   "source": []
  },
  {
   "cell_type": "code",
   "execution_count": 2,
   "metadata": {},
   "outputs": [
    {
     "name": "stdout",
     "output_type": "stream",
     "text": [
      "-----------------------\n",
      "-----------------------\n",
      "-----------------------\n",
      "{1: {'No': '11', 'İsim': 'ali', 'Soy isim ': 'ye', 'Telefon': '123', 'Doğum Tarihi': '45'}, 2: {'No': '56', 'İsim': 'alş', 'Soy isim ': 'dkdk', 'Telefon': '33', 'Doğum Tarihi': '333'}, 3: {'No': '333', 'İsim': 'eee', 'Soy isim ': 'eee', 'Telefon': '333', 'Doğum Tarihi': '555'}}\n"
     ]
    }
   ],
   "source": [
    "# 1.Problemin Çözümünü Buraya Yazınız\n",
    "\n",
    "ogrenciler = {}\n",
    "for i in range(1,4):\n",
    "    no = input(\"okul no giriniz :\")\n",
    "    isim = input(\"isim giriniz :\")\n",
    "    soyIsim = input(\"soyismini giriniz :\" )\n",
    "    telefon = input(\"telefon giriniz : \")\n",
    "    dogumTarihi = input(\"doğum tarihi giriniz : \")\n",
    "    print(\"-----------------------\")\n",
    "    ogrenciler[i] = {\n",
    "        \"No\" : no,\n",
    "        \"İsim\" : isim,\n",
    "        \"Soy isim \" : soyIsim,\n",
    "        \"Telefon\" : telefon,\n",
    "        \"Doğum Tarihi\" : dogumTarihi\n",
    "    }\n",
    "\n",
    " \n",
    "print(ogrenciler)"
   ]
  },
  {
   "cell_type": "markdown",
   "metadata": {},
   "source": [
    "# Problem 2\n",
    "\n",
    "### a - Biraz ısınarak başlayalım!\n",
    "\n",
    "```\n",
    "numbers = [5,10,10,15,15,15,20,20,20,20]\n",
    "```\n",
    "\n",
    "Yukarıda `numbers` adında 10 elemanlı bir liste verilmiştir. Bu listenin her elemanını kontrol eden ve tekrar eden elemanları bir kez olacak şekilde başka bir listeye kopyalayan bir program yazınız. Son olarak oluşturduğunuz listeyi ekrana bastırınız.\n",
    "\n",
    "\n",
    "\n",
    "\n",
    "```\n",
    ">Output\n",
    "[5, 10, 15, 20]\n",
    "```\n"
   ]
  },
  {
   "cell_type": "code",
   "execution_count": 28,
   "metadata": {},
   "outputs": [
    {
     "name": "stdout",
     "output_type": "stream",
     "text": [
      "[5, 10, 15, 20]\n"
     ]
    }
   ],
   "source": [
    "# 2.Problemin a Şıkkının Çözümünü Buraya Y\n",
    "numbers = [5,10,10,15,15,15,20,20,20,20]\n",
    "unique = []\n",
    "for i in numbers:\n",
    "    if i in unique:\n",
    "        continue\n",
    "    else:\n",
    "        unique.append(i)\n",
    "print(unique)\n"
   ]
  },
  {
   "cell_type": "markdown",
   "metadata": {},
   "source": [
    "### 🌶️ b) Hadi işi biraz daha zorlaştıralım! \n",
    "\n",
    "\n",
    "Şimdiyse senden `numbers` isimli listedeki tekrar eden elemanları `repeatNumbers` adındaki listeye; tekrar etmeyen elemanları `uniqueNumbers`adındaki listeye kopyalayan yazmanı ve listeleri ekrana bastırmanı bekliyoruz\n",
    "\n",
    "```\n",
    ">Output\n",
    "Tekrar Eden Elemanlar: [10, 10, 15, 15, 15, 20, 20, 20, 20]\n",
    "Tekrar Etmeyen Elemanlar: [5]\n",
    "```"
   ]
  },
  {
   "cell_type": "code",
   "execution_count": 29,
   "metadata": {},
   "outputs": [
    {
     "name": "stdout",
     "output_type": "stream",
     "text": [
      "tekrar eden elemanlar : [10, 10, 15, 15, 15, 20, 20, 20, 20]\n",
      "tekrar etmeyen elemanlar :  [5]\n"
     ]
    }
   ],
   "source": [
    "# 2.Problemin b Şıkkının Çözümünü Buraya Yazınız\n",
    "\n",
    "numbers = [5,10,10,15,15,15,20,20,20,20]\n",
    "unique = []\n",
    "repeat = []\n",
    "for i in numbers:\n",
    "    if numbers.count(i) ==1:\n",
    "        unique.append(i)\n",
    "\n",
    "    else:\n",
    "        repeat.append(i)\n",
    "\n",
    "print(\"tekrar eden elemanlar :\" , repeat)\n",
    "print(\"tekrar etmeyen elemanlar : \" , unique)"
   ]
  },
  {
   "cell_type": "markdown",
   "metadata": {},
   "source": [
    "# Problem 3\n",
    "sn1 = {1,2,3,4,5}\n",
    "\n",
    "sn2 = {4,5,6,7,8}\n",
    "\n",
    " Verilen 2 adet küme için kesişimlerini, farklarını ve birleşimlerini bulunuz. "
   ]
  },
  {
   "cell_type": "code",
   "execution_count": 33,
   "metadata": {},
   "outputs": [
    {
     "name": "stdout",
     "output_type": "stream",
     "text": [
      "kesişenler {4, 5}\n"
     ]
    }
   ],
   "source": [
    "# 3.Problemin Çözümünü Buraya Yazınız\n",
    "sn1 = {1,2,3,4,5}\n",
    "sn2 = {4,5,6,7,8}\n",
    "\n",
    "kesisim = sn1.intersection(sn2)\n",
    "print(\"kesişenler\" , kesisim)\n",
    "\n"
   ]
  },
  {
   "cell_type": "code",
   "execution_count": 34,
   "metadata": {},
   "outputs": [
    {
     "name": "stdout",
     "output_type": "stream",
     "text": [
      "{1, 2, 3}\n"
     ]
    }
   ],
   "source": [
    "sn1 = {1,2,3,4,5}\n",
    "sn2 = {4,5,6,7,8}\n",
    "\n",
    "fark = sn1.difference(sn2)\n",
    "print(fark)"
   ]
  },
  {
   "cell_type": "code",
   "execution_count": 35,
   "metadata": {},
   "outputs": [
    {
     "name": "stdout",
     "output_type": "stream",
     "text": [
      "{1, 2, 3, 4, 5, 6, 7, 8}\n"
     ]
    }
   ],
   "source": [
    "sn1 = {1,2,3,4,5}\n",
    "sn2 = {4,5,6,7,8}\n",
    "\n",
    "birlesim = sn1.union(sn2)\n",
    "print(birlesim)"
   ]
  },
  {
   "cell_type": "markdown",
   "metadata": {},
   "source": [
    "# Problem 4\n",
    "\n",
    "Buradaki işlemlerimizin tamamı stringler içindir. Aşağıda verilecek olan metodlar için kendinizin örnek yaratması gerekmektedir. \n",
    "\n",
    "Örneğin `upper` için `string` değişkeni oluştururken` k = \"BAC\"` şeklinde oluşturmayınız. Bunun yerine k değişkenini `k = \"bac`\" şeklinde oluşturmanız `upper` metodundaki değişimi görebilmeniz için daha iyi olacaktır.\n",
    "\n",
    "Bütün metodlardaki değişimin gözle görülür şekilde değişimi beklenmektedir.\n",
    "\n",
    "\n",
    "1- capitalize(), lower(), upper(), swapcase(), title(), replace()\n",
    "\n",
    "2- endswith(), startswith(), find(), index(), count()\n",
    "\n",
    "3- split(), strip(), join(), islower(), isalpha(), isdigit()\n",
    "\n",
    "\n",
    "Yukarıdaki `string` metodlarındaki değişimleri görebildiğimiz bir program yazınız.\n"
   ]
  },
  {
   "cell_type": "code",
   "execution_count": 36,
   "metadata": {},
   "outputs": [
    {
     "name": "stdout",
     "output_type": "stream",
     "text": [
      "YetGen Core İle Python Öğreniyorum\n",
      "Yetgen core i̇le python öğreniyorum\n",
      "yetgen core i̇le python öğreniyorum\n",
      "YETGEN CORE İLE PYTHON ÖĞRENIYORUM\n",
      "yETgEN cORE i̇LE pYTHON öĞRENIYORUM\n",
      "Yetgen Core İle Python Öğreniyorum\n",
      "YetGen Core İle 21.Yüzyıl Yetkinlikleri Öğreniyorum\n"
     ]
    }
   ],
   "source": [
    "# 4.Problemin Çözümünü Buraya Yazınız\n",
    "x = \"YetGen Core İle Python Öğreniyorum\"\n",
    "print(x)\n",
    "\n",
    "print(x.capitalize())\n",
    "print(x.lower())\n",
    "print(x.upper())\n",
    "print(x.swapcase())\n",
    "print(x.title())\n",
    "print(x.replace(\"Python\" , \"21.Yüzyıl Yetkinlikleri\"))\n",
    "\n",
    "\n",
    "\n"
   ]
  },
  {
   "cell_type": "code",
   "execution_count": 38,
   "metadata": {},
   "outputs": [
    {
     "name": "stdout",
     "output_type": "stream",
     "text": [
      "False\n",
      "False\n",
      "16\n",
      "5\n"
     ]
    }
   ],
   "source": [
    "print(x.endswith(\"öğreniyorum\"))\n",
    "print(x.startswith(\"üniversite\"))\n",
    "print(x.find(\"Python\"))\n",
    "print(x.count(\"e\"))"
   ]
  },
  {
   "cell_type": "code",
   "execution_count": 40,
   "metadata": {},
   "outputs": [
    {
     "name": "stdout",
     "output_type": "stream",
     "text": [
      "['YetGen', 'Core', 'İle', 'Python', 'Öğreniyorum']\n",
      "Yetgen Core İle Python Öğreniyorum\n",
      "yetgen#Core#İle#Python#Öğreniyorum\n",
      "False\n",
      "False\n",
      "False\n",
      "True\n"
     ]
    }
   ],
   "source": [
    "print(x.split(\" \"))\n",
    "\n",
    "k = \"        Yetgen Core İle Python Öğreniyorum        \"\n",
    "k = k.strip()\n",
    "print(k)\n",
    "\n",
    "a = (\"yetgen\" , \"Core\" , \"İle\" , \"Python\" , \"Öğreniyorum\" )\n",
    "print(\"#\". join(a))\n",
    "\n",
    "print(k.islower())\n",
    "print(k.isalpha())\n",
    "print(k.isdigit())\n",
    "print(k.lower().islower())"
   ]
  }
 ],
 "metadata": {
  "kernelspec": {
   "display_name": "Python 3.10.5 64-bit",
   "language": "python",
   "name": "python3"
  },
  "language_info": {
   "codemirror_mode": {
    "name": "ipython",
    "version": 3
   },
   "file_extension": ".py",
   "mimetype": "text/x-python",
   "name": "python",
   "nbconvert_exporter": "python",
   "pygments_lexer": "ipython3",
   "version": "3.11.1"
  },
  "orig_nbformat": 4,
  "vscode": {
   "interpreter": {
    "hash": "5026d2d6e7aaaaba093def813beadff083d8733e4a511af01735cbabd156995d"
   }
  }
 },
 "nbformat": 4,
 "nbformat_minor": 2
}
